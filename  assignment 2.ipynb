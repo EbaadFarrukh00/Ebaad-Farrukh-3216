{
 "cells": [
  {
   "cell_type": "code",
   "execution_count": 3,
   "metadata": {},
   "outputs": [
    {
     "name": "stdout",
     "output_type": "stream",
     "text": [
      "table x 1 = 8\n",
      "table x 2 = 16\n",
      "table x 3 = 24\n",
      "table x 4 = 32\n",
      "table x 5 = 40\n",
      "table x 6 = 48\n",
      "table x 7 = 56\n",
      "table x 8 = 64\n",
      "table x 9 = 72\n",
      "table x 10 = 80\n",
      "table x 11 = 88\n",
      "table x 12 = 96\n",
      "table x 13 = 104\n",
      "table x 14 = 112\n",
      "table x 15 = 120\n",
      "table x 16 = 128\n",
      "table x 17 = 136\n",
      "table x 18 = 144\n",
      "table x 19 = 152\n"
     ]
    }
   ],
   "source": [
    " table = 8\n",
    "    \n",
    "    \n",
    " for i in range(1 , 20):\n",
    "    print(\"table\" , 'x' , i , '=' , table * i)\n",
    "    \n",
    "    \n",
    "    "
   ]
  },
  {
   "cell_type": "code",
   "execution_count": null,
   "metadata": {},
   "outputs": [],
   "source": []
  }
 ],
 "metadata": {
  "kernelspec": {
   "display_name": "Python 3",
   "language": "python",
   "name": "python3"
  },
  "language_info": {
   "codemirror_mode": {
    "name": "ipython",
    "version": 3
   },
   "file_extension": ".py",
   "mimetype": "text/x-python",
   "name": "python",
   "nbconvert_exporter": "python",
   "pygments_lexer": "ipython3",
   "version": "3.8.5"
  }
 },
 "nbformat": 4,
 "nbformat_minor": 4
}
